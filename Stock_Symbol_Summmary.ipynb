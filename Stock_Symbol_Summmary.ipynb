{
 "cells": [
  {
   "cell_type": "code",
   "execution_count": 1,
   "id": "c7a49b26",
   "metadata": {},
   "outputs": [
    {
     "data": {
      "text/plain": [
       "'A stock symbol is unique series of letters assign for companies stock or security e.g(\\'Apple=\\'AAPL\\',Microsoft corporation=\"MSFT\")\\nThe stock symbol is used to various pltform like finacial or stock exchange.\\n   it is useful when we have differentiate between different stock apart from this it make easy to place order and analyze trend'"
      ]
     },
     "execution_count": 1,
     "metadata": {},
     "output_type": "execute_result"
    }
   ],
   "source": [
    "\"\"\"A stock symbol is unique series of letters assign for companies stock or security e.g('Apple='AAPL',Microsoft corporation=\"MSFT\")\n",
    "The stock symbol is used to various pltform like finacial or stock exchange.\n",
    "   it is useful when we have differentiate between different stock apart from this it make easy to place order and analyze trend\"\"\""
   ]
  },
  {
   "cell_type": "code",
   "execution_count": 1,
   "id": "eb29940c",
   "metadata": {},
   "outputs": [
    {
     "name": "stdout",
     "output_type": "stream",
     "text": [
      "Defaulting to user installation because normal site-packages is not writeable\n",
      "Requirement already satisfied: reportlab in c:\\users\\rohit\\appdata\\roaming\\python\\python39\\site-packages (4.0.4)\n",
      "Requirement already satisfied: pillow>=9.0.0 in c:\\anaconda123\\lib\\site-packages (from reportlab) (9.0.1)\n"
     ]
    }
   ],
   "source": [
    "! pip install reportlab\n",
    "from reportlab.lib.pagesizes import letter\n",
    "from reportlab.pdfgen import canvas"
   ]
  },
  {
   "cell_type": "code",
   "execution_count": null,
   "id": "1dab2d29",
   "metadata": {},
   "outputs": [],
   "source": []
  },
  {
   "cell_type": "code",
   "execution_count": 2,
   "id": "6876c35d",
   "metadata": {},
   "outputs": [
    {
     "name": "stdout",
     "output_type": "stream",
     "text": [
      "PDF report generated successfully.\n"
     ]
    }
   ],
   "source": [
    "from reportlab.lib.pagesizes import letter\n",
    "from reportlab.platypus import SimpleDocTemplate, Paragraph, Spacer\n",
    "from reportlab.lib.styles import getSampleStyleSheet\n",
    "\n",
    "# Define the data\n",
    "company_names = [\n",
    "    'Apple Inc.', 'Amazon.com Inc.', 'Alphabet Inc.', 'Microsoft Corporation', 'Facebook, Inc.',\n",
    "    'Tesla, Inc.', 'Berkshire Hathaway Inc.', 'JPMorgan Chase & Co.', 'Johnson & Johnson', 'Procter & Gamble Co.',\n",
    "    'Visa Inc.', 'Walmart Inc.', 'Coca-Cola Company', 'Netflix, Inc.', 'Intel Corporation', 'Bank of America Corporation',\n",
    "    'Pfizer Inc.', 'General Electric Company', 'Walt Disney Company', 'McDonald s Corporation', 'IBM (International Business Machines Corporation)',\n",
    "    'Cisco Systems, Inc.', 'Exxon Mobil Corporation', 'AT&T Inc.', 'Verizon Communications Inc.', 'Mastercard Incorporated',\n",
    "    'Home Depot, Inc.', 'Adobe Inc.', 'NVIDIA Corporation', 'Salesforce.com Inc.', 'General Motors Company',\n",
    "    'Visa Inc.', 'Boeing Company', 'Oracle Corporation', 'PepsiCo, Inc.', 'Cisco Systems, Inc.',\n",
    "    'Goldman Sachs Group, Inc.', 'Nike, Inc.', 'Caterpillar Inc.', 'IBM (International Business Machines Corporation)',\n",
    "    'Intel Corporation', 'Ford Motor Company', 'Alibaba Group Holding Limited', 'Adobe Inc.', 'General Electric Company',\n",
    "    'PayPal Holdings, Inc.', 'Comcast Corporation', 'Visa Inc.', 'PepsiCo, Inc.', 'AT&T Inc.',\n",
    "    'Advanced Micro Devices, Inc.', 'Chevron Corporation', 'The Coca-Cola Company', 'Target Corporation', 'Twitter, Inc.',\n",
    "    'Johnson Controls International plc', 'Merck & Co., Inc.', 'Visa Inc.', 'McDonald s Corporation', 'The Walt Disney Company',\n",
    "    'Ford Motor Company', 'American Express Company', 'General Mills, Inc.', 'The Home Depot, Inc.',\n",
    "    'IBM (International Business Machines Corporation)', 'NVIDIA Corporation', 'Starbucks Corporation', 'The Procter & Gamble Company',\n",
    "    'General Electric Company', 'Verizon Communications Inc.', 'Delta Air Lines, Inc.', 'Adobe Inc.',\n",
    "    'Salesforce.com Inc.', 'Uber Technologies, Inc.', 'Intel Corporation', 'Facebook, Inc.', 'Alphabet Inc.',\n",
    "    'Microsoft Corporation', 'Visa Inc.', 'Walmart Inc.', 'Johnson & Johnson'\n",
    "]\n",
    "\n",
    "stock_symbols = [\n",
    "    'AAPL', 'AMZN', 'GOOGL', 'MSFT', 'FB', 'TSLA', 'BRK.A, BRK.B', 'JPM', 'JNJ', 'PG', 'V', 'WMT', 'KO', 'NFLX',\n",
    "    'INTC', 'BAC', 'PFE', 'GE', 'DIS', 'MCD', '', 'CSCO', 'XOM', 'T', 'VZ', 'MA', 'HD', 'ADBE', 'NVDA', 'CRM',\n",
    "    'GM', 'V', 'BA', 'ORCL', 'PEP', 'CSCO', 'GS', 'NKE', 'CAT', '', 'INTC', 'F', 'BABA', 'ADBE', 'GE', 'PYPL',\n",
    "    'CMCSA', 'V', 'PEP', 'T', 'AMD', 'CVX', 'KO', 'TGT', 'TWTR', 'JCI', 'MRK', 'V', 'MCD', 'DIS', 'F', 'AXP',\n",
    "    'GIS', 'HD', '', 'NVDA', 'SBUX', 'PG', 'GE', 'VZ', 'DAL', 'ADBE', 'CRM', 'UBER', 'INTC', 'FB', 'GOOGL',\n",
    "    'MSFT', 'V', 'WMT', 'JNJ'\n",
    "]\n",
    "\n",
    "# Create a PDF document\n",
    "doc = SimpleDocTemplate(\"stock_symbol.pdf\", pagesize=letter)\n",
    "\n",
    "# Define the styles\n",
    "styles = getSampleStyleSheet()\n",
    "header_style = styles['Heading1']\n",
    "body_style = styles['BodyText']\n",
    "\n",
    "# Create the content for the PDF\n",
    "content = []\n",
    "content.append(Paragraph(\"stock symbol summary\", header_style))\n",
    "content.append(Spacer(1, 20))\n",
    "\n",
    "for i in range(len(company_names)):\n",
    "    company = company_names[i]\n",
    "    symbol = stock_symbols[i]\n",
    "\n",
    "    # Create a paragraph for each company and symbol\n",
    "    company_paragraph = Paragraph(f\"Company: {company}\", body_style)\n",
    "    symbol_paragraph = Paragraph(f\"Symbol: {symbol}\", body_style)\n",
    "\n",
    "    content.append(company_paragraph)\n",
    "    content.append(symbol_paragraph)\n",
    "    content.append(Spacer(1, 10))\n",
    "\n",
    "# Build the PDF document\n",
    "doc.build(content)\n",
    "\n",
    "print(\"PDF report generated successfully.\")\n"
   ]
  },
  {
   "cell_type": "code",
   "execution_count": 13,
   "id": "9cd7714b",
   "metadata": {},
   "outputs": [],
   "source": [
    "from reportlab.lib.pagesizes import letter\n",
    "from reportlab.pdfgen import canvas\n",
    "\n",
    "# Create a new PDF document\n",
    "pdf = canvas.Canvas(\"project_Report.pdf\", pagesize=letter)\n",
    "\n",
    "# Set up the document properties\n",
    "pdf.setTitle('Project Report: Analyzing Historical Stock Prices and Forecasting')\n",
    "pdf.setAuthor('Rohit Redekar')\n",
    "\n",
    "# Define the content of the report\n",
    "content = '''\n",
    "Project Report: Analyzing Historical Stock Prices and Forecasting\n",
    "\n",
    "1.Introduction\n",
    "\n",
    " This project aims to analyze the historical stock prices of a given stock symbol and perform a linear regression analysis to forecast future prices.\n",
    "The project utilizes the Alpha Vantage API to retrieve the necessary stock data and employs various data analysis & visualization techniques using Python libraries such as requests, \n",
    "pandas, matplotlib, random,& scipy.\n",
    "\n",
    "2. Data Retrieval and Preprocessing\n",
    "\n",
    "The Alpha Vantage API is used to fetch the daily adjusted stock prices for the past 60 trading days.\n",
    "The API response is obtained through a GET request using the provided API key and the stock symbol.\n",
    "The JSON response is parsed to extract the relevant data, specifically the adjusted close prices.\n",
    "The extracted data is stored in a pandas DataFrame for further analysis.\n",
    "\n",
    "3. Data Analysis\n",
    "\n",
    "The pandas DataFrame is used to calculate the average price and standard deviation of the adjusted close prices.\n",
    "Linear regression analysis is performed to determine the relationship between the trading days and adjusted close prices.\n",
    "The slope, intercept, R-squared value, and other regression statistics are calculated using the scipy library.\n",
    "The results of the analysis, including the DataFrame, regression results, and R-squared value, are displayed.\n",
    "\n",
    "4. Visualization\n",
    "\n",
    "The historical stock prices are plotted along with the regression line to visualize the trend.\n",
    "The forecasted prices for the next 10 trading days are also plotted.\n",
    "The plot includes axis labels, a title, and a legend for better interpretation.\n",
    "The plot is saved as an image file named \"stock_prices.png\" for future reference.\n",
    "\n",
    "5. Forecasting and Random Sequence\n",
    "\n",
    "The forecasted stock prices for the next 10 trading days are printed.\n",
    "A random sequence of integers is generated using the forecasted prices and the standard deviation.\n",
    "The random sequence represents potential fluctuations in the stock prices based on the forecast.\n",
    "\n",
    "6.conclusion\n",
    "This project explain how to fetch historical stock prices, using of api_keyand  perform linear regression analysis, visualize the results, and generate forecasts. It provides insights into the average price, standard deviation, and the relationship between trading days and stock prices. The plot and forecasted prices can be used for decision-making or further analysis.\n",
    "\n",
    "'''\n",
    "\n",
    "# Set the font and size for the report content\n",
    "pdf.setFont(\"Helvetica\", 12)\n",
    "\n",
    "# Set the starting position for the content\n",
    "x, y = 50, 700\n",
    "\n",
    "# Add the content to the PDF document\n",
    "for line in content.splitlines():\n",
    "    pdf.drawString(x, y, line)\n",
    "    y -= 20\n",
    "\n",
    "# Save and close the PDF document\n",
    "pdf.save()\n"
   ]
  },
  {
   "cell_type": "code",
   "execution_count": null,
   "id": "19c2297b",
   "metadata": {},
   "outputs": [],
   "source": []
  }
 ],
 "metadata": {
  "kernelspec": {
   "display_name": "Python 3 (ipykernel)",
   "language": "python",
   "name": "python3"
  },
  "language_info": {
   "codemirror_mode": {
    "name": "ipython",
    "version": 3
   },
   "file_extension": ".py",
   "mimetype": "text/x-python",
   "name": "python",
   "nbconvert_exporter": "python",
   "pygments_lexer": "ipython3",
   "version": "3.9.12"
  }
 },
 "nbformat": 4,
 "nbformat_minor": 5
}
