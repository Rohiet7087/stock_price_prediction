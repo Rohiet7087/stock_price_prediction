{
 "cells": [
  {
   "cell_type": "code",
   "execution_count": 1,
   "id": "c7a49b26",
   "metadata": {},
   "outputs": [
    {
     "data": {
      "text/plain": [
       "'A stock symbol is unique series of letters assign for companies stock or security e.g(\\'Apple=\\'AAPL\\',Microsoft corporation=\"MSFT\")\\nThe stock symbol is used to various pltform like finacial or stock exchange.\\n   it is useful when we have differentiate between different stock apart from this it make easy to place order and analyze trend'"
      ]
     },
     "execution_count": 1,
     "metadata": {},
     "output_type": "execute_result"
    }
   ],
   "source": [
    "\"\"\"A stock symbol is unique series of letters assign for companies stock or security e.g('Apple='AAPL',Microsoft corporation=\"MSFT\")\n",
    "The stock symbol is used to various pltform like finacial or stock exchange.\n",
    "   it is useful when we have differentiate between different stock apart from this it make easy to place order and analyze trend\"\"\""
   ]
  },
  {
   "cell_type": "code",
   "execution_count": 2,
   "id": "eb29940c",
   "metadata": {},
   "outputs": [
    {
     "name": "stdout",
     "output_type": "stream",
     "text": [
      "Defaulting to user installation because normal site-packages is not writeable\n",
      "Requirement already satisfied: reportlab in c:\\users\\rohit\\appdata\\roaming\\python\\python39\\site-packages (4.0.4)\n",
      "Requirement already satisfied: pillow>=9.0.0 in c:\\anaconda123\\lib\\site-packages (from reportlab) (9.0.1)\n"
     ]
    }
   ],
   "source": [
    "! pip install reportlab\n",
    "from reportlab.lib.pagesizes import letter\n",
    "from reportlab.pdfgen import canvas"
   ]
  },
  {
   "cell_type": "code",
   "execution_count": null,
   "id": "1dab2d29",
   "metadata": {},
   "outputs": [],
   "source": []
  },
  {
   "cell_type": "code",
   "execution_count": 52,
   "id": "6876c35d",
   "metadata": {},
   "outputs": [
    {
     "name": "stdout",
     "output_type": "stream",
     "text": [
      "PDF report generated successfully.\n"
     ]
    }
   ],
   "source": [
    "from reportlab.lib.pagesizes import letter\n",
    "from reportlab.platypus import SimpleDocTemplate, Paragraph, Spacer\n",
    "from reportlab.lib.styles import getSampleStyleSheet\n",
    "\n",
    "# Define the data\n",
    "company_names = [\n",
    "    'Apple Inc.', 'Amazon.com Inc.', 'Alphabet Inc.', 'Microsoft Corporation', 'Facebook, Inc.',\n",
    "    'Tesla, Inc.', 'Berkshire Hathaway Inc.', 'JPMorgan Chase & Co.', 'Johnson & Johnson', 'Procter & Gamble Co.',\n",
    "    'Visa Inc.', 'Walmart Inc.', 'Coca-Cola Company', 'Netflix, Inc.', 'Intel Corporation', 'Bank of America Corporation',\n",
    "    'Pfizer Inc.', 'General Electric Company', 'Walt Disney Company', 'McDonald s Corporation', 'IBM (International Business Machines Corporation)',\n",
    "    'Cisco Systems, Inc.', 'Exxon Mobil Corporation', 'AT&T Inc.', 'Verizon Communications Inc.', 'Mastercard Incorporated',\n",
    "    'Home Depot, Inc.', 'Adobe Inc.', 'NVIDIA Corporation', 'Salesforce.com Inc.', 'General Motors Company',\n",
    "    'Visa Inc.', 'Boeing Company', 'Oracle Corporation', 'PepsiCo, Inc.', 'Cisco Systems, Inc.',\n",
    "    'Goldman Sachs Group, Inc.', 'Nike, Inc.', 'Caterpillar Inc.', 'IBM (International Business Machines Corporation)',\n",
    "    'Intel Corporation', 'Ford Motor Company', 'Alibaba Group Holding Limited', 'Adobe Inc.', 'General Electric Company',\n",
    "    'PayPal Holdings, Inc.', 'Comcast Corporation', 'Visa Inc.', 'PepsiCo, Inc.', 'AT&T Inc.',\n",
    "    'Advanced Micro Devices, Inc.', 'Chevron Corporation', 'The Coca-Cola Company', 'Target Corporation', 'Twitter, Inc.',\n",
    "    'Johnson Controls International plc', 'Merck & Co., Inc.', 'Visa Inc.', 'McDonald s Corporation', 'The Walt Disney Company',\n",
    "    'Ford Motor Company', 'American Express Company', 'General Mills, Inc.', 'The Home Depot, Inc.',\n",
    "    'IBM (International Business Machines Corporation)', 'NVIDIA Corporation', 'Starbucks Corporation', 'The Procter & Gamble Company',\n",
    "    'General Electric Company', 'Verizon Communications Inc.', 'Delta Air Lines, Inc.', 'Adobe Inc.',\n",
    "    'Salesforce.com Inc.', 'Uber Technologies, Inc.', 'Intel Corporation', 'Facebook, Inc.', 'Alphabet Inc.',\n",
    "    'Microsoft Corporation', 'Visa Inc.', 'Walmart Inc.', 'Johnson & Johnson'\n",
    "]\n",
    "\n",
    "stock_symbols = [\n",
    "    'AAPL', 'AMZN', 'GOOGL', 'MSFT', 'FB', 'TSLA', 'BRK.A, BRK.B', 'JPM', 'JNJ', 'PG', 'V', 'WMT', 'KO', 'NFLX',\n",
    "    'INTC', 'BAC', 'PFE', 'GE', 'DIS', 'MCD', '', 'CSCO', 'XOM', 'T', 'VZ', 'MA', 'HD', 'ADBE', 'NVDA', 'CRM',\n",
    "    'GM', 'V', 'BA', 'ORCL', 'PEP', 'CSCO', 'GS', 'NKE', 'CAT', '', 'INTC', 'F', 'BABA', 'ADBE', 'GE', 'PYPL',\n",
    "    'CMCSA', 'V', 'PEP', 'T', 'AMD', 'CVX', 'KO', 'TGT', 'TWTR', 'JCI', 'MRK', 'V', 'MCD', 'DIS', 'F', 'AXP',\n",
    "    'GIS', 'HD', '', 'NVDA', 'SBUX', 'PG', 'GE', 'VZ', 'DAL', 'ADBE', 'CRM', 'UBER', 'INTC', 'FB', 'GOOGL',\n",
    "    'MSFT', 'V', 'WMT', 'JNJ'\n",
    "]\n",
    "\n",
    "# Create a PDF document\n",
    "doc = SimpleDocTemplate(\"stock_symbol.pdf\", pagesize=letter)\n",
    "\n",
    "# Define the styles\n",
    "styles = getSampleStyleSheet()\n",
    "header_style = styles['Heading1']\n",
    "body_style = styles['BodyText']\n",
    "\n",
    "# Create the content for the PDF\n",
    "content = []\n",
    "content.append(Paragraph(\"stock symbol summary\", header_style))\n",
    "content.append(Spacer(1, 20))\n",
    "\n",
    "for i in range(len(company_names)):\n",
    "    company = company_names[i]\n",
    "    symbol = stock_symbols[i]\n",
    "\n",
    "    # Create a paragraph for each company and symbol\n",
    "    company_paragraph = Paragraph(f\"Company: {company}\", body_style)\n",
    "    symbol_paragraph = Paragraph(f\"Symbol: {symbol}\", body_style)\n",
    "\n",
    "    content.append(company_paragraph)\n",
    "    content.append(symbol_paragraph)\n",
    "    content.append(Spacer(1, 10))\n",
    "\n",
    "# Build the PDF document\n",
    "doc.build(content)\n",
    "\n",
    "print(\"PDF report generated successfully.\")\n"
   ]
  },
  {
   "cell_type": "code",
   "execution_count": null,
   "id": "1a2bd2cc",
   "metadata": {},
   "outputs": [],
   "source": []
  }
 ],
 "metadata": {
  "kernelspec": {
   "display_name": "Python 3 (ipykernel)",
   "language": "python",
   "name": "python3"
  },
  "language_info": {
   "codemirror_mode": {
    "name": "ipython",
    "version": 3
   },
   "file_extension": ".py",
   "mimetype": "text/x-python",
   "name": "python",
   "nbconvert_exporter": "python",
   "pygments_lexer": "ipython3",
   "version": "3.9.12"
  }
 },
 "nbformat": 4,
 "nbformat_minor": 5
}
