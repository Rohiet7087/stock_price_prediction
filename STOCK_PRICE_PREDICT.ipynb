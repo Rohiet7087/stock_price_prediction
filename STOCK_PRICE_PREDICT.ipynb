{
 "cells": [
  {
   "cell_type": "code",
   "execution_count": 42,
   "id": "baa17da0",
   "metadata": {},
   "outputs": [],
   "source": [
    "import pandas as pd\n",
    "import requests\n",
    "from scipy import stats\n",
    "import matplotlib.pyplot as plt\n",
    "import seaborn as sns\n",
    "import random\n",
    "import requests"
   ]
  },
  {
   "cell_type": "markdown",
   "id": "8871c746",
   "metadata": {},
   "source": [
    "# Introduction"
   ]
  },
  {
   "cell_type": "raw",
   "id": "a98aed93",
   "metadata": {},
   "source": [
    "This project aims to analyze the historical stock prices of a given stock symbol and perform a linear regression analysis to forecast future prices.\n",
    "The project utilizes the Alpha Vantage API to retrieve the necessary stock data and employs various data analysis & visualization techniques using Python libraries such as requests, \n",
    "pandas, matplotlib, random,& scipy.\n"
   ]
  },
  {
   "cell_type": "code",
   "execution_count": null,
   "id": "deb0e6e7",
   "metadata": {},
   "outputs": [],
   "source": []
  },
  {
   "cell_type": "code",
   "execution_count": 44,
   "id": "5be3b8a4",
   "metadata": {},
   "outputs": [],
   "source": [
    "# Replace 'YOUR_API_KEY' with your actual API key from Alpha Vantage\n",
    "Api_key = 'N5XATG3PC318Z391'"
   ]
  },
  {
   "cell_type": "raw",
   "id": "c09833a7",
   "metadata": {},
   "source": [
    "1. With the help of \"Alpha Vantage \" free api source Url I Creat a free api key for stock data featching\n",
    "2.Api_key variable showing our api_key."
   ]
  },
  {
   "cell_type": "code",
   "execution_count": null,
   "id": "edb9baf6",
   "metadata": {},
   "outputs": [],
   "source": []
  },
  {
   "cell_type": "code",
   "execution_count": 45,
   "id": "aae92576",
   "metadata": {},
   "outputs": [],
   "source": [
    "# Define the stock symbol and API end_point URL\n",
    "# Define the stock symbol and API endpoint URL\n",
    "Ticket_symbol = 'IBM'\n",
    "endpoint = f'https://www.alphavantage.co/query?function=TIME_SERIES_DAILY_ADJUSTED&symbol={Ticket_symbol}&outputsize=compact&apikey={Api_key}'\n"
   ]
  },
  {
   "cell_type": "markdown",
   "id": "e38bcdab",
   "metadata": {},
   "source": [
    "1.Stock_symbol variable means which company stock you want to see eg.(Apple,Ibm) etc.\n",
    "2.In this end_point variable the formated string is combine the base of Api url with query parameter and they adjusting daily stock price of company which showing in Ticket_symbol variable."
   ]
  },
  {
   "cell_type": "code",
   "execution_count": null,
   "id": "9e402881",
   "metadata": {},
   "outputs": [],
   "source": []
  },
  {
   "cell_type": "code",
   "execution_count": 46,
   "id": "c710b3cc",
   "metadata": {},
   "outputs": [],
   "source": [
    "\n",
    "response = requests.get(endpoint)\n",
    "if response.status_code == 200:\n",
    "    # Parse the JSON response\n",
    "    data = response.json()"
   ]
  },
  {
   "cell_type": "markdown",
   "id": "3a77ab92",
   "metadata": {},
   "source": [
    "1.Used Get Method for retrive the data from a server the source our source is endpoint variable.\n",
    "2.This condition checks if the HTTP status code of the response is equal to 200.then it will succesful.\n",
    "3.request to the specified API endpoint, checks if the request is successful, and if so, parses the response as JSON. The JSON data can then be used for further processing or analysis."
   ]
  },
  {
   "cell_type": "code",
   "execution_count": null,
   "id": "f2d64fbe",
   "metadata": {},
   "outputs": [],
   "source": []
  },
  {
   "cell_type": "code",
   "execution_count": 47,
   "id": "838562fc",
   "metadata": {},
   "outputs": [],
   "source": [
    " # Extract the daily stock prices for the past 60 trading days\n",
    "time_series = data['Time Series (Daily)']\n",
    "trading_days = sorted(time_series.keys(),reverse=True)[:60]"
   ]
  },
  {
   "cell_type": "markdown",
   "id": "1b670248",
   "metadata": {},
   "source": [
    "Extracting the past 60 days daily price in decending oreder.the help of time series \"key()\" dictionary such as dates."
   ]
  },
  {
   "cell_type": "code",
   "execution_count": null,
   "id": "af8d5714",
   "metadata": {},
   "outputs": [],
   "source": []
  },
  {
   "cell_type": "code",
   "execution_count": 48,
   "id": "c6ecda13",
   "metadata": {},
   "outputs": [
    {
     "name": "stdout",
     "output_type": "stream",
     "text": [
      "2023-06-14: 137.2\n",
      "2023-06-13: 137.6\n",
      "2023-06-12: 136.42\n",
      "2023-06-09: 135.3\n",
      "2023-06-08: 134.41\n",
      "2023-06-07: 134.38\n",
      "2023-06-06: 132.69\n",
      "2023-06-05: 132.64\n",
      "2023-06-02: 132.42\n",
      "2023-06-01: 129.82\n",
      "2023-05-31: 128.59\n",
      "2023-05-30: 129.48\n",
      "2023-05-26: 128.89\n",
      "2023-05-25: 126.76\n",
      "2023-05-24: 125.68\n",
      "2023-05-23: 128.18\n",
      "2023-05-22: 127.5\n",
      "2023-05-19: 127.26\n",
      "2023-05-18: 126.15\n",
      "2023-05-17: 125.71\n",
      "2023-05-16: 123.46\n",
      "2023-05-15: 123.36\n",
      "2023-05-12: 122.84\n",
      "2023-05-11: 120.9\n",
      "2023-05-10: 122.02\n",
      "2023-05-09: 121.17\n",
      "2023-05-08: 121.732296670195\n",
      "2023-05-05: 121.978918016771\n",
      "2023-05-04: 120.91351379956\n",
      "2023-05-03: 121.78162093951\n",
      "2023-05-02: 123.468510950094\n",
      "2023-05-01: 124.385942359358\n",
      "2023-04-28: 124.701617682976\n",
      "2023-04-27: 125.254049499308\n",
      "2023-04-26: 124.149185866645\n",
      "2023-04-25: 124.188645282097\n",
      "2023-04-24: 123.705267442807\n",
      "2023-04-21: 124.030807620288\n",
      "2023-04-20: 124.652293413661\n",
      "2023-04-19: 124.612833998209\n",
      "2023-04-18: 126.053102662216\n",
      "2023-04-17: 126.092562077668\n",
      "2023-04-14: 126.408237401286\n",
      "2023-04-13: 126.171480908573\n",
      "2023-04-12: 126.802831555809\n",
      "2023-04-11: 128.657424082065\n",
      "2023-04-10: 129.259180167711\n",
      "2023-04-06: 128.736342912969\n",
      "2023-04-05: 130.354178946511\n",
      "2023-04-04: 129.821476837906\n",
      "2023-04-03: 130.275260115607\n",
      "2023-03-31: 129.31836929089\n",
      "2023-03-30: 127.473641618497\n",
      "2023-03-29: 127.957019457787\n",
      "2023-03-28: 127.592019864854\n",
      "2023-03-27: 127.562425303265\n",
      "2023-03-24: 123.596754050313\n",
      "2023-03-23: 121.702702108605\n",
      "2023-03-22: 122.373512171294\n",
      "2023-03-21: 124.859455344785\n"
     ]
    }
   ],
   "source": [
    " # Display the adjusted close prices\n",
    "for day in trading_days:\n",
    "        adjusted_close = time_series[day]['5. adjusted close']\n",
    "        print(f'{day}: {adjusted_close}')"
   ]
  },
  {
   "cell_type": "raw",
   "id": "675d32d4",
   "metadata": {},
   "source": [
    "1.Helping with the loop iterating the day and price and show the adjusted close price of each day. and f string is showing the days and adjusted days values."
   ]
  },
  {
   "cell_type": "code",
   "execution_count": null,
   "id": "2911bac2",
   "metadata": {},
   "outputs": [],
   "source": []
  },
  {
   "cell_type": "code",
   "execution_count": 49,
   "id": "d36c120d",
   "metadata": {},
   "outputs": [],
   "source": [
    "# Create a list of dictionaries for each trading day's data\n",
    "data_of_list = []\n",
    "for day in trading_days:\n",
    "        adjusted_close = int(float(time_series[day]['5. adjusted close']))\n",
    "        data_of_list.append({'Date': day, 'Adjusted Close': adjusted_close})"
   ]
  },
  {
   "cell_type": "raw",
   "id": "8e520a1e",
   "metadata": {},
   "source": [
    "1.created a dictionaries for all date and adjusted close.\n",
    "2. changed the data types of adjusted close for further process.\n",
    "3. append into the date"
   ]
  },
  {
   "cell_type": "code",
   "execution_count": null,
   "id": "9dc8d1c4",
   "metadata": {},
   "outputs": [],
   "source": []
  },
  {
   "cell_type": "code",
   "execution_count": 50,
   "id": "883b6829",
   "metadata": {},
   "outputs": [],
   "source": [
    "\n",
    "New_df = pd.DataFrame(data_of_list)"
   ]
  },
  {
   "cell_type": "raw",
   "id": "5b57ce49",
   "metadata": {},
   "source": [
    "created new dataframe for ploting and some stastic analysis"
   ]
  },
  {
   "cell_type": "code",
   "execution_count": null,
   "id": "d478ef62",
   "metadata": {},
   "outputs": [],
   "source": []
  },
  {
   "cell_type": "code",
   "execution_count": 51,
   "id": "d2a03095",
   "metadata": {},
   "outputs": [
    {
     "data": {
      "text/html": [
       "<div>\n",
       "<style scoped>\n",
       "    .dataframe tbody tr th:only-of-type {\n",
       "        vertical-align: middle;\n",
       "    }\n",
       "\n",
       "    .dataframe tbody tr th {\n",
       "        vertical-align: top;\n",
       "    }\n",
       "\n",
       "    .dataframe thead th {\n",
       "        text-align: right;\n",
       "    }\n",
       "</style>\n",
       "<table border=\"1\" class=\"dataframe\">\n",
       "  <thead>\n",
       "    <tr style=\"text-align: right;\">\n",
       "      <th></th>\n",
       "      <th>Date</th>\n",
       "      <th>Adjusted Close</th>\n",
       "    </tr>\n",
       "  </thead>\n",
       "  <tbody>\n",
       "    <tr>\n",
       "      <th>0</th>\n",
       "      <td>2023-06-14</td>\n",
       "      <td>137</td>\n",
       "    </tr>\n",
       "    <tr>\n",
       "      <th>1</th>\n",
       "      <td>2023-06-13</td>\n",
       "      <td>137</td>\n",
       "    </tr>\n",
       "    <tr>\n",
       "      <th>2</th>\n",
       "      <td>2023-06-12</td>\n",
       "      <td>136</td>\n",
       "    </tr>\n",
       "    <tr>\n",
       "      <th>3</th>\n",
       "      <td>2023-06-09</td>\n",
       "      <td>135</td>\n",
       "    </tr>\n",
       "    <tr>\n",
       "      <th>4</th>\n",
       "      <td>2023-06-08</td>\n",
       "      <td>134</td>\n",
       "    </tr>\n",
       "    <tr>\n",
       "      <th>5</th>\n",
       "      <td>2023-06-07</td>\n",
       "      <td>134</td>\n",
       "    </tr>\n",
       "    <tr>\n",
       "      <th>6</th>\n",
       "      <td>2023-06-06</td>\n",
       "      <td>132</td>\n",
       "    </tr>\n",
       "    <tr>\n",
       "      <th>7</th>\n",
       "      <td>2023-06-05</td>\n",
       "      <td>132</td>\n",
       "    </tr>\n",
       "    <tr>\n",
       "      <th>8</th>\n",
       "      <td>2023-06-02</td>\n",
       "      <td>132</td>\n",
       "    </tr>\n",
       "    <tr>\n",
       "      <th>9</th>\n",
       "      <td>2023-06-01</td>\n",
       "      <td>129</td>\n",
       "    </tr>\n",
       "    <tr>\n",
       "      <th>10</th>\n",
       "      <td>2023-05-31</td>\n",
       "      <td>128</td>\n",
       "    </tr>\n",
       "    <tr>\n",
       "      <th>11</th>\n",
       "      <td>2023-05-30</td>\n",
       "      <td>129</td>\n",
       "    </tr>\n",
       "    <tr>\n",
       "      <th>12</th>\n",
       "      <td>2023-05-26</td>\n",
       "      <td>128</td>\n",
       "    </tr>\n",
       "    <tr>\n",
       "      <th>13</th>\n",
       "      <td>2023-05-25</td>\n",
       "      <td>126</td>\n",
       "    </tr>\n",
       "    <tr>\n",
       "      <th>14</th>\n",
       "      <td>2023-05-24</td>\n",
       "      <td>125</td>\n",
       "    </tr>\n",
       "    <tr>\n",
       "      <th>15</th>\n",
       "      <td>2023-05-23</td>\n",
       "      <td>128</td>\n",
       "    </tr>\n",
       "    <tr>\n",
       "      <th>16</th>\n",
       "      <td>2023-05-22</td>\n",
       "      <td>127</td>\n",
       "    </tr>\n",
       "    <tr>\n",
       "      <th>17</th>\n",
       "      <td>2023-05-19</td>\n",
       "      <td>127</td>\n",
       "    </tr>\n",
       "    <tr>\n",
       "      <th>18</th>\n",
       "      <td>2023-05-18</td>\n",
       "      <td>126</td>\n",
       "    </tr>\n",
       "    <tr>\n",
       "      <th>19</th>\n",
       "      <td>2023-05-17</td>\n",
       "      <td>125</td>\n",
       "    </tr>\n",
       "    <tr>\n",
       "      <th>20</th>\n",
       "      <td>2023-05-16</td>\n",
       "      <td>123</td>\n",
       "    </tr>\n",
       "    <tr>\n",
       "      <th>21</th>\n",
       "      <td>2023-05-15</td>\n",
       "      <td>123</td>\n",
       "    </tr>\n",
       "    <tr>\n",
       "      <th>22</th>\n",
       "      <td>2023-05-12</td>\n",
       "      <td>122</td>\n",
       "    </tr>\n",
       "    <tr>\n",
       "      <th>23</th>\n",
       "      <td>2023-05-11</td>\n",
       "      <td>120</td>\n",
       "    </tr>\n",
       "    <tr>\n",
       "      <th>24</th>\n",
       "      <td>2023-05-10</td>\n",
       "      <td>122</td>\n",
       "    </tr>\n",
       "    <tr>\n",
       "      <th>25</th>\n",
       "      <td>2023-05-09</td>\n",
       "      <td>121</td>\n",
       "    </tr>\n",
       "    <tr>\n",
       "      <th>26</th>\n",
       "      <td>2023-05-08</td>\n",
       "      <td>121</td>\n",
       "    </tr>\n",
       "    <tr>\n",
       "      <th>27</th>\n",
       "      <td>2023-05-05</td>\n",
       "      <td>121</td>\n",
       "    </tr>\n",
       "    <tr>\n",
       "      <th>28</th>\n",
       "      <td>2023-05-04</td>\n",
       "      <td>120</td>\n",
       "    </tr>\n",
       "    <tr>\n",
       "      <th>29</th>\n",
       "      <td>2023-05-03</td>\n",
       "      <td>121</td>\n",
       "    </tr>\n",
       "    <tr>\n",
       "      <th>30</th>\n",
       "      <td>2023-05-02</td>\n",
       "      <td>123</td>\n",
       "    </tr>\n",
       "    <tr>\n",
       "      <th>31</th>\n",
       "      <td>2023-05-01</td>\n",
       "      <td>124</td>\n",
       "    </tr>\n",
       "    <tr>\n",
       "      <th>32</th>\n",
       "      <td>2023-04-28</td>\n",
       "      <td>124</td>\n",
       "    </tr>\n",
       "    <tr>\n",
       "      <th>33</th>\n",
       "      <td>2023-04-27</td>\n",
       "      <td>125</td>\n",
       "    </tr>\n",
       "    <tr>\n",
       "      <th>34</th>\n",
       "      <td>2023-04-26</td>\n",
       "      <td>124</td>\n",
       "    </tr>\n",
       "    <tr>\n",
       "      <th>35</th>\n",
       "      <td>2023-04-25</td>\n",
       "      <td>124</td>\n",
       "    </tr>\n",
       "    <tr>\n",
       "      <th>36</th>\n",
       "      <td>2023-04-24</td>\n",
       "      <td>123</td>\n",
       "    </tr>\n",
       "    <tr>\n",
       "      <th>37</th>\n",
       "      <td>2023-04-21</td>\n",
       "      <td>124</td>\n",
       "    </tr>\n",
       "    <tr>\n",
       "      <th>38</th>\n",
       "      <td>2023-04-20</td>\n",
       "      <td>124</td>\n",
       "    </tr>\n",
       "    <tr>\n",
       "      <th>39</th>\n",
       "      <td>2023-04-19</td>\n",
       "      <td>124</td>\n",
       "    </tr>\n",
       "    <tr>\n",
       "      <th>40</th>\n",
       "      <td>2023-04-18</td>\n",
       "      <td>126</td>\n",
       "    </tr>\n",
       "    <tr>\n",
       "      <th>41</th>\n",
       "      <td>2023-04-17</td>\n",
       "      <td>126</td>\n",
       "    </tr>\n",
       "    <tr>\n",
       "      <th>42</th>\n",
       "      <td>2023-04-14</td>\n",
       "      <td>126</td>\n",
       "    </tr>\n",
       "    <tr>\n",
       "      <th>43</th>\n",
       "      <td>2023-04-13</td>\n",
       "      <td>126</td>\n",
       "    </tr>\n",
       "    <tr>\n",
       "      <th>44</th>\n",
       "      <td>2023-04-12</td>\n",
       "      <td>126</td>\n",
       "    </tr>\n",
       "    <tr>\n",
       "      <th>45</th>\n",
       "      <td>2023-04-11</td>\n",
       "      <td>128</td>\n",
       "    </tr>\n",
       "    <tr>\n",
       "      <th>46</th>\n",
       "      <td>2023-04-10</td>\n",
       "      <td>129</td>\n",
       "    </tr>\n",
       "    <tr>\n",
       "      <th>47</th>\n",
       "      <td>2023-04-06</td>\n",
       "      <td>128</td>\n",
       "    </tr>\n",
       "    <tr>\n",
       "      <th>48</th>\n",
       "      <td>2023-04-05</td>\n",
       "      <td>130</td>\n",
       "    </tr>\n",
       "    <tr>\n",
       "      <th>49</th>\n",
       "      <td>2023-04-04</td>\n",
       "      <td>129</td>\n",
       "    </tr>\n",
       "    <tr>\n",
       "      <th>50</th>\n",
       "      <td>2023-04-03</td>\n",
       "      <td>130</td>\n",
       "    </tr>\n",
       "    <tr>\n",
       "      <th>51</th>\n",
       "      <td>2023-03-31</td>\n",
       "      <td>129</td>\n",
       "    </tr>\n",
       "    <tr>\n",
       "      <th>52</th>\n",
       "      <td>2023-03-30</td>\n",
       "      <td>127</td>\n",
       "    </tr>\n",
       "    <tr>\n",
       "      <th>53</th>\n",
       "      <td>2023-03-29</td>\n",
       "      <td>127</td>\n",
       "    </tr>\n",
       "    <tr>\n",
       "      <th>54</th>\n",
       "      <td>2023-03-28</td>\n",
       "      <td>127</td>\n",
       "    </tr>\n",
       "    <tr>\n",
       "      <th>55</th>\n",
       "      <td>2023-03-27</td>\n",
       "      <td>127</td>\n",
       "    </tr>\n",
       "    <tr>\n",
       "      <th>56</th>\n",
       "      <td>2023-03-24</td>\n",
       "      <td>123</td>\n",
       "    </tr>\n",
       "    <tr>\n",
       "      <th>57</th>\n",
       "      <td>2023-03-23</td>\n",
       "      <td>121</td>\n",
       "    </tr>\n",
       "    <tr>\n",
       "      <th>58</th>\n",
       "      <td>2023-03-22</td>\n",
       "      <td>122</td>\n",
       "    </tr>\n",
       "    <tr>\n",
       "      <th>59</th>\n",
       "      <td>2023-03-21</td>\n",
       "      <td>124</td>\n",
       "    </tr>\n",
       "  </tbody>\n",
       "</table>\n",
       "</div>"
      ],
      "text/plain": [
       "          Date  Adjusted Close\n",
       "0   2023-06-14             137\n",
       "1   2023-06-13             137\n",
       "2   2023-06-12             136\n",
       "3   2023-06-09             135\n",
       "4   2023-06-08             134\n",
       "5   2023-06-07             134\n",
       "6   2023-06-06             132\n",
       "7   2023-06-05             132\n",
       "8   2023-06-02             132\n",
       "9   2023-06-01             129\n",
       "10  2023-05-31             128\n",
       "11  2023-05-30             129\n",
       "12  2023-05-26             128\n",
       "13  2023-05-25             126\n",
       "14  2023-05-24             125\n",
       "15  2023-05-23             128\n",
       "16  2023-05-22             127\n",
       "17  2023-05-19             127\n",
       "18  2023-05-18             126\n",
       "19  2023-05-17             125\n",
       "20  2023-05-16             123\n",
       "21  2023-05-15             123\n",
       "22  2023-05-12             122\n",
       "23  2023-05-11             120\n",
       "24  2023-05-10             122\n",
       "25  2023-05-09             121\n",
       "26  2023-05-08             121\n",
       "27  2023-05-05             121\n",
       "28  2023-05-04             120\n",
       "29  2023-05-03             121\n",
       "30  2023-05-02             123\n",
       "31  2023-05-01             124\n",
       "32  2023-04-28             124\n",
       "33  2023-04-27             125\n",
       "34  2023-04-26             124\n",
       "35  2023-04-25             124\n",
       "36  2023-04-24             123\n",
       "37  2023-04-21             124\n",
       "38  2023-04-20             124\n",
       "39  2023-04-19             124\n",
       "40  2023-04-18             126\n",
       "41  2023-04-17             126\n",
       "42  2023-04-14             126\n",
       "43  2023-04-13             126\n",
       "44  2023-04-12             126\n",
       "45  2023-04-11             128\n",
       "46  2023-04-10             129\n",
       "47  2023-04-06             128\n",
       "48  2023-04-05             130\n",
       "49  2023-04-04             129\n",
       "50  2023-04-03             130\n",
       "51  2023-03-31             129\n",
       "52  2023-03-30             127\n",
       "53  2023-03-29             127\n",
       "54  2023-03-28             127\n",
       "55  2023-03-27             127\n",
       "56  2023-03-24             123\n",
       "57  2023-03-23             121\n",
       "58  2023-03-22             122\n",
       "59  2023-03-21             124"
      ]
     },
     "execution_count": 51,
     "metadata": {},
     "output_type": "execute_result"
    }
   ],
   "source": [
    "New_df"
   ]
  },
  {
   "cell_type": "markdown",
   "id": "69552cf7",
   "metadata": {},
   "source": [
    "# Statistical Analysis"
   ]
  },
  {
   "cell_type": "code",
   "execution_count": 52,
   "id": "fa986280",
   "metadata": {},
   "outputs": [],
   "source": [
    "average_price = New_df['Adjusted Close'].mean()\n",
    "std_deviation = New_df['Adjusted Close'].std()"
   ]
  },
  {
   "cell_type": "code",
   "execution_count": 53,
   "id": "80e7b416",
   "metadata": {},
   "outputs": [
    {
     "data": {
      "text/plain": [
       "4.260546899988972"
      ]
     },
     "execution_count": 53,
     "metadata": {},
     "output_type": "execute_result"
    }
   ],
   "source": [
    "#average_price\n",
    "std_deviation\n"
   ]
  },
  {
   "cell_type": "raw",
   "id": "2cd07b6a",
   "metadata": {},
   "source": [
    "1.The average_price of the Adjusted Close is 126.51\n",
    "2.1.The std_deviation of the Adjusted Close is 4.26\n"
   ]
  },
  {
   "cell_type": "code",
   "execution_count": null,
   "id": "d899ee4c",
   "metadata": {},
   "outputs": [],
   "source": []
  },
  {
   "cell_type": "code",
   "execution_count": 54,
   "id": "b66a6c20",
   "metadata": {},
   "outputs": [
    {
     "data": {
      "text/plain": [
       "<AxesSubplot:xlabel='Adjusted Close', ylabel='Count'>"
      ]
     },
     "execution_count": 54,
     "metadata": {},
     "output_type": "execute_result"
    },
    {
     "data": {
      "image/png": "[encoded data removed]",
      "text/plain": [
       "<Figure size 432x288 with 1 Axes>"
      ]
     },
     "metadata": {
      "needs_background": "light"
     },
     "output_type": "display_data"
    }
   ],
   "source": [
    "sns.histplot(New_df['Adjusted Close']) "
   ]
  },
  {
   "cell_type": "raw",
   "id": "01e7f1ce",
   "metadata": {},
   "source": [
    "1. In this box plot we can see count of adjusted close price, between 125.0 to 127.5 is the highest count and lowest in 132.5 to 135"
   ]
  },
  {
   "cell_type": "code",
   "execution_count": null,
   "id": "2637bea1",
   "metadata": {},
   "outputs": [],
   "source": []
  },
  {
   "cell_type": "code",
   "execution_count": 55,
   "id": "da3976a1",
   "metadata": {},
   "outputs": [],
   "source": [
    "# Perform linear regression analysis\n",
    "x = range(len(New_df))\n",
    "y = New_df['Adjusted Close']\n",
    "slope, intercept, r_value, p_value, std_err = stats.linregress(x, y)\n",
    "r_squared = r_value ** 2"
   ]
  },
  {
   "cell_type": "code",
   "execution_count": 56,
   "id": "3e5c47de",
   "metadata": {},
   "outputs": [
    {
     "name": "stdout",
     "output_type": "stream",
     "text": [
      "\n",
      "Average Price: 126.52\n",
      "Standard Deviation: 4.26\n",
      "\n",
      "Regression Analysis:\n",
      "Slope: -0.11\n",
      "Intercept: 129.75\n",
      "R-squared: 0.20\n"
     ]
    }
   ],
   "source": [
    "# Display the DataFrame, regression results, and R-squared value\n",
    "#print(\"Historical Stock Prices:\")\n",
    "#print(New_df)\n",
    "print(f\"\\nAverage Price: {average_price:.2f}\")\n",
    "print(f\"Standard Deviation: {std_deviation:.2f}\")\n",
    "print(f\"\\nRegression Analysis:\")\n",
    "print(f\"Slope: {slope:.2f}\")\n",
    "print(f\"Intercept: {intercept:.2f}\")\n",
    "print(f\"R-squared: {r_squared:.2f}\")"
   ]
  },
  {
   "cell_type": "raw",
   "id": "a6adcc0d",
   "metadata": {},
   "source": [
    "In the x variable have range of our New_data frame and y is showing Adjusted close whith the help of stats.linregress exicute the \n",
    "1.Average price=126.52\n",
    "2.Standard Deviation=4.26\n",
    "3.Slope=-0.11\n",
    "4.Intercept=129.75\n",
    "5.R-squred=0.20"
   ]
  },
  {
   "cell_type": "code",
   "execution_count": null,
   "id": "d34989a0",
   "metadata": {},
   "outputs": [],
   "source": []
  },
  {
   "cell_type": "markdown",
   "id": "c812140d",
   "metadata": {},
   "source": [
    "# Forecasting the stock prices for next 10 days"
   ]
  },
  {
   "cell_type": "code",
   "execution_count": 57,
   "id": "eaf8435c",
   "metadata": {},
   "outputs": [
    {
     "data": {
      "image/png": "[encoded data removed]",
      "text/plain": [
       "<Figure size 720x432 with 1 Axes>"
      ]
     },
     "metadata": {
      "needs_background": "light"
     },
     "output_type": "display_data"
    }
   ],
   "source": [
    "# Plot the historical stock prices with regression line and forecasted prices\n",
    "plt.figure(figsize=(10, 6))\n",
    "plt.plot(x, y, label='Historical Prices')\n",
    "plt.plot(x, slope * x + intercept, 'r-', label='Regression Line')\n",
    "plt.plot(forecast_days, forecast_prices, 'g-', label='Forecasted Prices')\n",
    "plt.xlabel('Trading Days')\n",
    "plt.ylabel('Adjusted Close Price')\n",
    "plt.title(f'Historical Stock Prices for {Ticket_symbol}')\n",
    "plt.legend()\n",
    "plt.savefig(\"stock_prices.png\", dpi=300)\n",
    "plt.show()\n"
   ]
  },
  {
   "cell_type": "raw",
   "id": "7279a763",
   "metadata": {},
   "source": [
    "1.Here we can see we had a historical 60 days data and based on that predicted the next 10 days stock price.\n",
    "2.This graph is showing the next 10 days stock price is going down\n",
    "3 And saved the graph as a image"
   ]
  },
  {
   "cell_type": "code",
   "execution_count": null,
   "id": "49933fdd",
   "metadata": {},
   "outputs": [],
   "source": []
  },
  {
   "cell_type": "code",
   "execution_count": 58,
   "id": "d732f75a",
   "metadata": {},
   "outputs": [],
   "source": [
    " # Generate a random sequence of integers using the forecasted prices\n",
    "random_sequence = [random.randint(int(price - std_deviation), int(price + std_deviation)) for price in forecast_prices]\n"
   ]
  },
  {
   "cell_type": "code",
   "execution_count": 59,
   "id": "3f1abaf5",
   "metadata": {},
   "outputs": [
    {
     "data": {
      "text/plain": [
       "[124, 125, 126, 118, 126, 123, 124, 119, 120, 119]"
      ]
     },
     "execution_count": 59,
     "metadata": {},
     "output_type": "execute_result"
    }
   ],
   "source": [
    "random_sequence"
   ]
  },
  {
   "cell_type": "raw",
   "id": "2b82f833",
   "metadata": {},
   "source": [
    "1.Genrated the random sequence using of random.randint function with the help of forecast_prices"
   ]
  },
  {
   "cell_type": "code",
   "execution_count": null,
   "id": "450bf67a",
   "metadata": {},
   "outputs": [],
   "source": []
  },
  {
   "cell_type": "code",
   "execution_count": 69,
   "id": "4781dd1d",
   "metadata": {},
   "outputs": [
    {
     "name": "stdout",
     "output_type": "stream",
     "text": [
      "\n",
      "Forecasted Stock Prices:\n",
      "Day 60: 123.18\n",
      "Day 61: 123.07\n",
      "Day 62: 122.96\n",
      "Day 63: 122.85\n",
      "Day 64: 122.74\n",
      "Day 65: 122.63\n",
      "Day 66: 122.52\n",
      "Day 67: 122.41\n",
      "Day 68: 122.30\n",
      "Day 69: 122.19\n"
     ]
    }
   ],
   "source": [
    "\n",
    "print(\"\\nForecasted Stock Prices:\")\n",
    "for day, price in zip(forecast_days, forecast_prices):\n",
    "        print(f\"Day {day}: {price:.2f}\")"
   ]
  },
  {
   "cell_type": "raw",
   "id": "0c9d7343",
   "metadata": {},
   "source": [
    "1.Here we predict the what will happen the next 10 days of stock price we, the price of next 10 days is still going down."
   ]
  },
  {
   "cell_type": "markdown",
   "id": "e70d0fee",
   "metadata": {},
   "source": [
    "# Conclusion"
   ]
  },
  {
   "cell_type": "raw",
   "id": "d48d419d",
   "metadata": {},
   "source": [
    "This project explain how to fetch historical stock prices, using of api_keyand  perform linear regression analysis, visualize the results, and generate forecasts. It provides insights into the average price, standard deviation, and the relationship between trading days and stock prices. The plot and forecasted prices can be used for decision-making or further analysis.\n"
   ]
  },
  {
   "cell_type": "code",
   "execution_count": null,
   "id": "a7a967a3",
   "metadata": {},
   "outputs": [],
   "source": []
  }
 ],
 "metadata": {
  "kernelspec": {
   "display_name": "Python 3 (ipykernel)",
   "language": "python",
   "name": "python3"
  },
  "language_info": {
   "codemirror_mode": {
    "name": "ipython",
    "version": 3
   },
   "file_extension": ".py",
   "mimetype": "text/x-python",
   "name": "python",
   "nbconvert_exporter": "python",
   "pygments_lexer": "ipython3",
   "version": "3.9.12"
  }
 },
 "nbformat": 4,
 "nbformat_minor": 5
}
